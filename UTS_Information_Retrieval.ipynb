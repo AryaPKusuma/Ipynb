{
  "cells": [
    {
      "cell_type": "markdown",
      "metadata": {
        "id": "rq3_vU1SmXYi"
      },
      "source": [
        "Install library Sastrawi untuk preprocessing dan import library yang diperlukan"
      ]
    },
    {
      "cell_type": "code",
      "execution_count": null,
      "metadata": {
        "colab": {
          "base_uri": "https://localhost:8080/"
        },
        "id": "wt0GodBNeY7K",
        "outputId": "b33dda37-50a9-4234-c3fb-e524b0dd0a0e"
      },
      "outputs": [
        {
          "output_type": "stream",
          "name": "stdout",
          "text": [
            "Requirement already satisfied: Sastrawi in /usr/local/lib/python3.10/dist-packages (1.0.1)\n"
          ]
        }
      ],
      "source": [
        "!pip install Sastrawi"
      ]
    },
    {
      "cell_type": "markdown",
      "metadata": {
        "id": "HOdif3H_mhAr"
      },
      "source": []
    },
    {
      "cell_type": "code",
      "execution_count": null,
      "metadata": {
        "id": "fS8qc8OeWjUg"
      },
      "outputs": [],
      "source": [
        "import nltk\n",
        "from nltk import word_tokenize, FreqDist\n",
        "from nltk.corpus import stopwords\n",
        "from Sastrawi.Stemmer.StemmerFactory import StemmerFactory\n",
        "import string, re\n",
        "import math\n",
        "import numpy as np\n",
        "from numpy.linalg import norm"
      ]
    },
    {
      "cell_type": "code",
      "execution_count": null,
      "metadata": {
        "colab": {
          "base_uri": "https://localhost:8080/"
        },
        "id": "5PrsnagTZ2H0",
        "outputId": "5fb098e1-2503-416d-c5c3-b18413bd95cb"
      },
      "outputs": [
        {
          "output_type": "stream",
          "name": "stderr",
          "text": [
            "[nltk_data] Downloading collection 'all'\n",
            "[nltk_data]    | \n",
            "[nltk_data]    | Downloading package abc to /root/nltk_data...\n",
            "[nltk_data]    |   Package abc is already up-to-date!\n",
            "[nltk_data]    | Downloading package alpino to /root/nltk_data...\n",
            "[nltk_data]    |   Package alpino is already up-to-date!\n",
            "[nltk_data]    | Downloading package averaged_perceptron_tagger to\n",
            "[nltk_data]    |     /root/nltk_data...\n",
            "[nltk_data]    |   Package averaged_perceptron_tagger is already up-\n",
            "[nltk_data]    |       to-date!\n",
            "[nltk_data]    | Downloading package averaged_perceptron_tagger_ru to\n",
            "[nltk_data]    |     /root/nltk_data...\n",
            "[nltk_data]    |   Package averaged_perceptron_tagger_ru is already\n",
            "[nltk_data]    |       up-to-date!\n",
            "[nltk_data]    | Downloading package basque_grammars to\n",
            "[nltk_data]    |     /root/nltk_data...\n",
            "[nltk_data]    |   Package basque_grammars is already up-to-date!\n",
            "[nltk_data]    | Downloading package bcp47 to /root/nltk_data...\n",
            "[nltk_data]    |   Package bcp47 is already up-to-date!\n",
            "[nltk_data]    | Downloading package biocreative_ppi to\n",
            "[nltk_data]    |     /root/nltk_data...\n",
            "[nltk_data]    |   Package biocreative_ppi is already up-to-date!\n",
            "[nltk_data]    | Downloading package bllip_wsj_no_aux to\n",
            "[nltk_data]    |     /root/nltk_data...\n",
            "[nltk_data]    |   Package bllip_wsj_no_aux is already up-to-date!\n",
            "[nltk_data]    | Downloading package book_grammars to\n",
            "[nltk_data]    |     /root/nltk_data...\n",
            "[nltk_data]    |   Package book_grammars is already up-to-date!\n",
            "[nltk_data]    | Downloading package brown to /root/nltk_data...\n",
            "[nltk_data]    |   Package brown is already up-to-date!\n",
            "[nltk_data]    | Downloading package brown_tei to /root/nltk_data...\n",
            "[nltk_data]    |   Package brown_tei is already up-to-date!\n",
            "[nltk_data]    | Downloading package cess_cat to /root/nltk_data...\n",
            "[nltk_data]    |   Package cess_cat is already up-to-date!\n",
            "[nltk_data]    | Downloading package cess_esp to /root/nltk_data...\n",
            "[nltk_data]    |   Package cess_esp is already up-to-date!\n",
            "[nltk_data]    | Downloading package chat80 to /root/nltk_data...\n",
            "[nltk_data]    |   Package chat80 is already up-to-date!\n",
            "[nltk_data]    | Downloading package city_database to\n",
            "[nltk_data]    |     /root/nltk_data...\n",
            "[nltk_data]    |   Package city_database is already up-to-date!\n",
            "[nltk_data]    | Downloading package cmudict to /root/nltk_data...\n",
            "[nltk_data]    |   Package cmudict is already up-to-date!\n",
            "[nltk_data]    | Downloading package comparative_sentences to\n",
            "[nltk_data]    |     /root/nltk_data...\n",
            "[nltk_data]    |   Package comparative_sentences is already up-to-\n",
            "[nltk_data]    |       date!\n",
            "[nltk_data]    | Downloading package comtrans to /root/nltk_data...\n",
            "[nltk_data]    |   Package comtrans is already up-to-date!\n",
            "[nltk_data]    | Downloading package conll2000 to /root/nltk_data...\n",
            "[nltk_data]    |   Package conll2000 is already up-to-date!\n",
            "[nltk_data]    | Downloading package conll2002 to /root/nltk_data...\n",
            "[nltk_data]    |   Package conll2002 is already up-to-date!\n",
            "[nltk_data]    | Downloading package conll2007 to /root/nltk_data...\n",
            "[nltk_data]    |   Package conll2007 is already up-to-date!\n",
            "[nltk_data]    | Downloading package crubadan to /root/nltk_data...\n",
            "[nltk_data]    |   Package crubadan is already up-to-date!\n",
            "[nltk_data]    | Downloading package dependency_treebank to\n",
            "[nltk_data]    |     /root/nltk_data...\n",
            "[nltk_data]    |   Package dependency_treebank is already up-to-date!\n",
            "[nltk_data]    | Downloading package dolch to /root/nltk_data...\n",
            "[nltk_data]    |   Package dolch is already up-to-date!\n",
            "[nltk_data]    | Downloading package europarl_raw to\n",
            "[nltk_data]    |     /root/nltk_data...\n",
            "[nltk_data]    |   Package europarl_raw is already up-to-date!\n",
            "[nltk_data]    | Downloading package extended_omw to\n",
            "[nltk_data]    |     /root/nltk_data...\n",
            "[nltk_data]    |   Package extended_omw is already up-to-date!\n",
            "[nltk_data]    | Downloading package floresta to /root/nltk_data...\n",
            "[nltk_data]    |   Package floresta is already up-to-date!\n",
            "[nltk_data]    | Downloading package framenet_v15 to\n",
            "[nltk_data]    |     /root/nltk_data...\n",
            "[nltk_data]    |   Package framenet_v15 is already up-to-date!\n",
            "[nltk_data]    | Downloading package framenet_v17 to\n",
            "[nltk_data]    |     /root/nltk_data...\n",
            "[nltk_data]    |   Package framenet_v17 is already up-to-date!\n",
            "[nltk_data]    | Downloading package gazetteers to /root/nltk_data...\n",
            "[nltk_data]    |   Package gazetteers is already up-to-date!\n",
            "[nltk_data]    | Downloading package genesis to /root/nltk_data...\n",
            "[nltk_data]    |   Package genesis is already up-to-date!\n",
            "[nltk_data]    | Downloading package gutenberg to /root/nltk_data...\n",
            "[nltk_data]    |   Package gutenberg is already up-to-date!\n",
            "[nltk_data]    | Downloading package ieer to /root/nltk_data...\n",
            "[nltk_data]    |   Package ieer is already up-to-date!\n",
            "[nltk_data]    | Downloading package inaugural to /root/nltk_data...\n",
            "[nltk_data]    |   Package inaugural is already up-to-date!\n",
            "[nltk_data]    | Downloading package indian to /root/nltk_data...\n",
            "[nltk_data]    |   Package indian is already up-to-date!\n",
            "[nltk_data]    | Downloading package jeita to /root/nltk_data...\n",
            "[nltk_data]    |   Package jeita is already up-to-date!\n",
            "[nltk_data]    | Downloading package kimmo to /root/nltk_data...\n",
            "[nltk_data]    |   Package kimmo is already up-to-date!\n",
            "[nltk_data]    | Downloading package knbc to /root/nltk_data...\n",
            "[nltk_data]    |   Package knbc is already up-to-date!\n",
            "[nltk_data]    | Downloading package large_grammars to\n",
            "[nltk_data]    |     /root/nltk_data...\n",
            "[nltk_data]    |   Package large_grammars is already up-to-date!\n",
            "[nltk_data]    | Downloading package lin_thesaurus to\n",
            "[nltk_data]    |     /root/nltk_data...\n",
            "[nltk_data]    |   Package lin_thesaurus is already up-to-date!\n",
            "[nltk_data]    | Downloading package mac_morpho to /root/nltk_data...\n",
            "[nltk_data]    |   Package mac_morpho is already up-to-date!\n",
            "[nltk_data]    | Downloading package machado to /root/nltk_data...\n",
            "[nltk_data]    |   Package machado is already up-to-date!\n",
            "[nltk_data]    | Downloading package masc_tagged to /root/nltk_data...\n",
            "[nltk_data]    |   Package masc_tagged is already up-to-date!\n",
            "[nltk_data]    | Downloading package maxent_ne_chunker to\n",
            "[nltk_data]    |     /root/nltk_data...\n",
            "[nltk_data]    |   Package maxent_ne_chunker is already up-to-date!\n",
            "[nltk_data]    | Downloading package maxent_treebank_pos_tagger to\n",
            "[nltk_data]    |     /root/nltk_data...\n",
            "[nltk_data]    |   Package maxent_treebank_pos_tagger is already up-\n",
            "[nltk_data]    |       to-date!\n",
            "[nltk_data]    | Downloading package moses_sample to\n",
            "[nltk_data]    |     /root/nltk_data...\n",
            "[nltk_data]    |   Package moses_sample is already up-to-date!\n",
            "[nltk_data]    | Downloading package movie_reviews to\n",
            "[nltk_data]    |     /root/nltk_data...\n",
            "[nltk_data]    |   Package movie_reviews is already up-to-date!\n",
            "[nltk_data]    | Downloading package mte_teip5 to /root/nltk_data...\n",
            "[nltk_data]    |   Package mte_teip5 is already up-to-date!\n",
            "[nltk_data]    | Downloading package mwa_ppdb to /root/nltk_data...\n",
            "[nltk_data]    |   Package mwa_ppdb is already up-to-date!\n",
            "[nltk_data]    | Downloading package names to /root/nltk_data...\n",
            "[nltk_data]    |   Package names is already up-to-date!\n",
            "[nltk_data]    | Downloading package nombank.1.0 to /root/nltk_data...\n",
            "[nltk_data]    |   Package nombank.1.0 is already up-to-date!\n",
            "[nltk_data]    | Downloading package nonbreaking_prefixes to\n",
            "[nltk_data]    |     /root/nltk_data...\n",
            "[nltk_data]    |   Package nonbreaking_prefixes is already up-to-date!\n",
            "[nltk_data]    | Downloading package nps_chat to /root/nltk_data...\n",
            "[nltk_data]    |   Package nps_chat is already up-to-date!\n",
            "[nltk_data]    | Downloading package omw to /root/nltk_data...\n",
            "[nltk_data]    |   Package omw is already up-to-date!\n",
            "[nltk_data]    | Downloading package omw-1.4 to /root/nltk_data...\n",
            "[nltk_data]    |   Package omw-1.4 is already up-to-date!\n",
            "[nltk_data]    | Downloading package opinion_lexicon to\n",
            "[nltk_data]    |     /root/nltk_data...\n",
            "[nltk_data]    |   Package opinion_lexicon is already up-to-date!\n",
            "[nltk_data]    | Downloading package panlex_swadesh to\n",
            "[nltk_data]    |     /root/nltk_data...\n",
            "[nltk_data]    |   Package panlex_swadesh is already up-to-date!\n",
            "[nltk_data]    | Downloading package paradigms to /root/nltk_data...\n",
            "[nltk_data]    |   Package paradigms is already up-to-date!\n",
            "[nltk_data]    | Downloading package pe08 to /root/nltk_data...\n",
            "[nltk_data]    |   Package pe08 is already up-to-date!\n",
            "[nltk_data]    | Downloading package perluniprops to\n",
            "[nltk_data]    |     /root/nltk_data...\n",
            "[nltk_data]    |   Package perluniprops is already up-to-date!\n",
            "[nltk_data]    | Downloading package pil to /root/nltk_data...\n",
            "[nltk_data]    |   Package pil is already up-to-date!\n",
            "[nltk_data]    | Downloading package pl196x to /root/nltk_data...\n",
            "[nltk_data]    |   Package pl196x is already up-to-date!\n",
            "[nltk_data]    | Downloading package porter_test to /root/nltk_data...\n",
            "[nltk_data]    |   Package porter_test is already up-to-date!\n",
            "[nltk_data]    | Downloading package ppattach to /root/nltk_data...\n",
            "[nltk_data]    |   Package ppattach is already up-to-date!\n",
            "[nltk_data]    | Downloading package problem_reports to\n",
            "[nltk_data]    |     /root/nltk_data...\n",
            "[nltk_data]    |   Package problem_reports is already up-to-date!\n",
            "[nltk_data]    | Downloading package product_reviews_1 to\n",
            "[nltk_data]    |     /root/nltk_data...\n",
            "[nltk_data]    |   Package product_reviews_1 is already up-to-date!\n",
            "[nltk_data]    | Downloading package product_reviews_2 to\n",
            "[nltk_data]    |     /root/nltk_data...\n",
            "[nltk_data]    |   Package product_reviews_2 is already up-to-date!\n",
            "[nltk_data]    | Downloading package propbank to /root/nltk_data...\n",
            "[nltk_data]    |   Package propbank is already up-to-date!\n",
            "[nltk_data]    | Downloading package pros_cons to /root/nltk_data...\n",
            "[nltk_data]    |   Package pros_cons is already up-to-date!\n",
            "[nltk_data]    | Downloading package ptb to /root/nltk_data...\n",
            "[nltk_data]    |   Package ptb is already up-to-date!\n",
            "[nltk_data]    | Downloading package punkt to /root/nltk_data...\n",
            "[nltk_data]    |   Package punkt is already up-to-date!\n",
            "[nltk_data]    | Downloading package qc to /root/nltk_data...\n",
            "[nltk_data]    |   Package qc is already up-to-date!\n",
            "[nltk_data]    | Downloading package reuters to /root/nltk_data...\n",
            "[nltk_data]    |   Package reuters is already up-to-date!\n",
            "[nltk_data]    | Downloading package rslp to /root/nltk_data...\n",
            "[nltk_data]    |   Package rslp is already up-to-date!\n",
            "[nltk_data]    | Downloading package rte to /root/nltk_data...\n",
            "[nltk_data]    |   Package rte is already up-to-date!\n",
            "[nltk_data]    | Downloading package sample_grammars to\n",
            "[nltk_data]    |     /root/nltk_data...\n",
            "[nltk_data]    |   Package sample_grammars is already up-to-date!\n",
            "[nltk_data]    | Downloading package semcor to /root/nltk_data...\n",
            "[nltk_data]    |   Package semcor is already up-to-date!\n",
            "[nltk_data]    | Downloading package senseval to /root/nltk_data...\n",
            "[nltk_data]    |   Package senseval is already up-to-date!\n",
            "[nltk_data]    | Downloading package sentence_polarity to\n",
            "[nltk_data]    |     /root/nltk_data...\n",
            "[nltk_data]    |   Package sentence_polarity is already up-to-date!\n",
            "[nltk_data]    | Downloading package sentiwordnet to\n",
            "[nltk_data]    |     /root/nltk_data...\n",
            "[nltk_data]    |   Package sentiwordnet is already up-to-date!\n",
            "[nltk_data]    | Downloading package shakespeare to /root/nltk_data...\n",
            "[nltk_data]    |   Package shakespeare is already up-to-date!\n",
            "[nltk_data]    | Downloading package sinica_treebank to\n",
            "[nltk_data]    |     /root/nltk_data...\n",
            "[nltk_data]    |   Package sinica_treebank is already up-to-date!\n",
            "[nltk_data]    | Downloading package smultron to /root/nltk_data...\n",
            "[nltk_data]    |   Package smultron is already up-to-date!\n",
            "[nltk_data]    | Downloading package snowball_data to\n",
            "[nltk_data]    |     /root/nltk_data...\n",
            "[nltk_data]    |   Package snowball_data is already up-to-date!\n",
            "[nltk_data]    | Downloading package spanish_grammars to\n",
            "[nltk_data]    |     /root/nltk_data...\n",
            "[nltk_data]    |   Package spanish_grammars is already up-to-date!\n",
            "[nltk_data]    | Downloading package state_union to /root/nltk_data...\n",
            "[nltk_data]    |   Package state_union is already up-to-date!\n",
            "[nltk_data]    | Downloading package stopwords to /root/nltk_data...\n",
            "[nltk_data]    |   Package stopwords is already up-to-date!\n",
            "[nltk_data]    | Downloading package subjectivity to\n",
            "[nltk_data]    |     /root/nltk_data...\n",
            "[nltk_data]    |   Package subjectivity is already up-to-date!\n",
            "[nltk_data]    | Downloading package swadesh to /root/nltk_data...\n",
            "[nltk_data]    |   Package swadesh is already up-to-date!\n",
            "[nltk_data]    | Downloading package switchboard to /root/nltk_data...\n",
            "[nltk_data]    |   Package switchboard is already up-to-date!\n",
            "[nltk_data]    | Downloading package tagsets to /root/nltk_data...\n",
            "[nltk_data]    |   Package tagsets is already up-to-date!\n",
            "[nltk_data]    | Downloading package timit to /root/nltk_data...\n",
            "[nltk_data]    |   Package timit is already up-to-date!\n",
            "[nltk_data]    | Downloading package toolbox to /root/nltk_data...\n",
            "[nltk_data]    |   Package toolbox is already up-to-date!\n",
            "[nltk_data]    | Downloading package treebank to /root/nltk_data...\n",
            "[nltk_data]    |   Package treebank is already up-to-date!\n",
            "[nltk_data]    | Downloading package twitter_samples to\n",
            "[nltk_data]    |     /root/nltk_data...\n",
            "[nltk_data]    |   Package twitter_samples is already up-to-date!\n",
            "[nltk_data]    | Downloading package udhr to /root/nltk_data...\n",
            "[nltk_data]    |   Package udhr is already up-to-date!\n",
            "[nltk_data]    | Downloading package udhr2 to /root/nltk_data...\n",
            "[nltk_data]    |   Package udhr2 is already up-to-date!\n",
            "[nltk_data]    | Downloading package unicode_samples to\n",
            "[nltk_data]    |     /root/nltk_data...\n",
            "[nltk_data]    |   Package unicode_samples is already up-to-date!\n",
            "[nltk_data]    | Downloading package universal_tagset to\n",
            "[nltk_data]    |     /root/nltk_data...\n",
            "[nltk_data]    |   Package universal_tagset is already up-to-date!\n",
            "[nltk_data]    | Downloading package universal_treebanks_v20 to\n",
            "[nltk_data]    |     /root/nltk_data...\n",
            "[nltk_data]    |   Package universal_treebanks_v20 is already up-to-\n",
            "[nltk_data]    |       date!\n",
            "[nltk_data]    | Downloading package vader_lexicon to\n",
            "[nltk_data]    |     /root/nltk_data...\n",
            "[nltk_data]    |   Package vader_lexicon is already up-to-date!\n",
            "[nltk_data]    | Downloading package verbnet to /root/nltk_data...\n",
            "[nltk_data]    |   Package verbnet is already up-to-date!\n",
            "[nltk_data]    | Downloading package verbnet3 to /root/nltk_data...\n",
            "[nltk_data]    |   Package verbnet3 is already up-to-date!\n",
            "[nltk_data]    | Downloading package webtext to /root/nltk_data...\n",
            "[nltk_data]    |   Package webtext is already up-to-date!\n",
            "[nltk_data]    | Downloading package wmt15_eval to /root/nltk_data...\n",
            "[nltk_data]    |   Package wmt15_eval is already up-to-date!\n",
            "[nltk_data]    | Downloading package word2vec_sample to\n",
            "[nltk_data]    |     /root/nltk_data...\n",
            "[nltk_data]    |   Package word2vec_sample is already up-to-date!\n",
            "[nltk_data]    | Downloading package wordnet to /root/nltk_data...\n",
            "[nltk_data]    |   Package wordnet is already up-to-date!\n",
            "[nltk_data]    | Downloading package wordnet2021 to /root/nltk_data...\n",
            "[nltk_data]    |   Package wordnet2021 is already up-to-date!\n",
            "[nltk_data]    | Downloading package wordnet2022 to /root/nltk_data...\n",
            "[nltk_data]    |   Package wordnet2022 is already up-to-date!\n",
            "[nltk_data]    | Downloading package wordnet31 to /root/nltk_data...\n",
            "[nltk_data]    |   Package wordnet31 is already up-to-date!\n",
            "[nltk_data]    | Downloading package wordnet_ic to /root/nltk_data...\n",
            "[nltk_data]    |   Package wordnet_ic is already up-to-date!\n",
            "[nltk_data]    | Downloading package words to /root/nltk_data...\n",
            "[nltk_data]    |   Package words is already up-to-date!\n",
            "[nltk_data]    | Downloading package ycoe to /root/nltk_data...\n",
            "[nltk_data]    |   Package ycoe is already up-to-date!\n",
            "[nltk_data]    | \n",
            "[nltk_data]  Done downloading collection all\n"
          ]
        },
        {
          "output_type": "execute_result",
          "data": {
            "text/plain": [
              "True"
            ]
          },
          "metadata": {},
          "execution_count": 431
        }
      ],
      "source": [
        "nltk.download('all')"
      ]
    },
    {
      "cell_type": "markdown",
      "metadata": {
        "id": "uMoMiLwIPp02"
      },
      "source": [
        "# PRE-PROCESSING\n",
        "\n",
        "\n"
      ]
    },
    {
      "cell_type": "markdown",
      "metadata": {
        "id": "ogZ2G7Smmnd6"
      },
      "source": [
        "Fungsi tokenize untuk melakukan tokenization pada document yang meliputi mengubah document menjadi lowercase, menghapus tanda baca, menghapus spasi yang duplikat, menghapus angka"
      ]
    },
    {
      "cell_type": "code",
      "execution_count": null,
      "metadata": {
        "id": "uINatct1OZE_"
      },
      "outputs": [],
      "source": [
        "def tokenize(sentences):\n",
        "    sentences_lower = sentences.lower()\n",
        "\n",
        "    #hapus tanda baca\n",
        "    new_sentences = sentences_lower.translate(str.maketrans(\"\",\"\",string.punctuation))\n",
        "\n",
        "    #hapus spasi\n",
        "    new_sentences = new_sentences.strip()\n",
        "\n",
        "    #hapus spasi yang duplikat menjadi satu\n",
        "    new_sentences = re.sub('\\s+',' ', new_sentences)\n",
        "\n",
        "    #hapus angka\n",
        "    new_sentences = re.sub(r'\\d+', '', new_sentences)\n",
        "\n",
        "    #tokenization\n",
        "    token = word_tokenize(new_sentences)\n",
        "\n",
        "    return token"
      ]
    },
    {
      "cell_type": "markdown",
      "metadata": {
        "id": "w5h0lVROnhOE"
      },
      "source": [
        "Proses filtering untuk menghapus stopword"
      ]
    },
    {
      "cell_type": "code",
      "execution_count": null,
      "metadata": {
        "id": "9PovWs1wegf3"
      },
      "outputs": [],
      "source": [
        "def filter(token):\n",
        "    #ambil stopword bahasa indonesia\n",
        "    indonesian_stopword = set(stopwords.words(\"indonesian\"))\n",
        "\n",
        "    #filter token hasil tokenization dengan menghapus stopword\n",
        "    token_without_stopword = []\n",
        "    for word in token:\n",
        "        if word not in indonesian_stopword:\n",
        "            token_without_stopword.append(word)\n",
        "\n",
        "    return token_without_stopword"
      ]
    },
    {
      "cell_type": "markdown",
      "metadata": {
        "id": "TDG9hfKoni7C"
      },
      "source": [
        "Proses stemming untuk mengubah kata kerja menjadi kata baku\n",
        "di proses stemming ini terdapat kata yang salah untuk UISI karena UISI seharusnya tidak distemming menjadi 'uis' dan juga custom stemming untuk gerakan karena harusnya menjadi 'gerak' bukan 'gera'"
      ]
    },
    {
      "cell_type": "code",
      "execution_count": null,
      "metadata": {
        "id": "yzQR8gh4euzv"
      },
      "outputs": [],
      "source": [
        "def stem(filtered_token):\n",
        "    exception_word = ['uisi']\n",
        "    custom_stem = {\n",
        "        'gerakan': 'gerak'\n",
        "    }\n",
        "\n",
        "    #buat stemmer\n",
        "    factory = StemmerFactory()\n",
        "    stemmer = factory.create_stemmer()\n",
        "\n",
        "    #stem masing2 kata dari token\n",
        "    stem_result = []\n",
        "    for token in filtered_token:\n",
        "        if token in exception_word:\n",
        "            stem_result.append(token)\n",
        "        else:\n",
        "            stemmed_token = stemmer.stem(token)\n",
        "            if token in custom_stem:\n",
        "                stemmed_token = custom_stem[token]\n",
        "            stem_result.append(stemmed_token)\n",
        "\n",
        "\n",
        "    return stem_result"
      ]
    },
    {
      "cell_type": "code",
      "execution_count": null,
      "metadata": {
        "id": "okstNMgoAqKK"
      },
      "outputs": [],
      "source": [
        "#@title Isi dokumen dan query\n",
        "docs = {\n",
        "    \"d1\": \"Ardy Kholil Kharitsi, Guntur Anugroho Putra Abadi bangun pagi. Dia berkuliah di UISI Gresik\",\n",
        "    \"d2\": \"UISI berjaya sebagai peringkat 3 Nasional PTN/ PTS Liga 3 bidang kemahasiswaan\",\n",
        "    \"d3\": \"gerakan membangun Gresik kurang mendapat tanggapan masyarakat\",\n",
        "    \"d4\": \"masyarakat diharapkan tanggap dengan persoalan di sekitar universitas\",\n",
        "    \"d5\": \"usaha di sini sukses karena adanya Universitas Internasional Semen Indonesia (UISI)\"\n",
        "}\n",
        "\n",
        "Q = \"membangun gresik yang sukses dan berjaya\""
      ]
    },
    {
      "cell_type": "code",
      "execution_count": null,
      "metadata": {
        "id": "gWh8LP3vXXdw"
      },
      "outputs": [],
      "source": [
        "#@title Preprocess document\n",
        "preprocessed_docs = []\n",
        "for doc in docs:\n",
        "    tokenized = tokenize(docs[doc])\n",
        "    filtered = filter(tokenized)\n",
        "    stemmed = stem(filtered)\n",
        "    preprocessed_docs.append(stemmed)"
      ]
    },
    {
      "cell_type": "code",
      "execution_count": null,
      "metadata": {
        "colab": {
          "base_uri": "https://localhost:8080/"
        },
        "id": "LIByhCgZc0Jb",
        "outputId": "f48f0c5d-5816-4f34-828e-bdac97ce23e2"
      },
      "outputs": [
        {
          "output_type": "execute_result",
          "data": {
            "text/plain": [
              "['bangun', 'gresik', 'sukses', 'jaya']"
            ]
          },
          "metadata": {},
          "execution_count": 437
        }
      ],
      "source": [
        "#@title Preprocess query\n",
        "q_tokenized = tokenize(Q)\n",
        "q_filtered = filter(q_tokenized)\n",
        "q_stemmed = stem(q_filtered)\n",
        "q_stemmed"
      ]
    },
    {
      "cell_type": "code",
      "execution_count": null,
      "metadata": {
        "id": "pf4eagpKc9Wy"
      },
      "outputs": [],
      "source": [
        "#@title Masukkan query dalam docs\n",
        "preprocessed_docs.append(q_stemmed)"
      ]
    },
    {
      "cell_type": "code",
      "execution_count": null,
      "metadata": {
        "colab": {
          "base_uri": "https://localhost:8080/"
        },
        "id": "aN06D1nVhwny",
        "outputId": "1c0e34df-3a3c-4f58-bc2d-23888f29206d"
      },
      "outputs": [
        {
          "output_type": "stream",
          "name": "stdout",
          "text": [
            "['ardy', 'kholil', 'kharitsi', 'guntur', 'anugroho', 'putra', 'abadi', 'bangun', 'pagi', 'kuliah', 'uisi', 'gresik']\n",
            "['uisi', 'jaya', 'peringkat', 'nasional', 'ptn', 'pts', 'liga', 'bidang', 'mahasiswa']\n",
            "['gerak', 'bangun', 'gresik', 'tanggap', 'masyarakat']\n",
            "['masyarakat', 'harap', 'tanggap', 'universitas']\n",
            "['usaha', 'sukses', 'universitas', 'internasional', 'semen', 'indonesia', 'uisi']\n",
            "['bangun', 'gresik', 'sukses', 'jaya']\n"
          ]
        }
      ],
      "source": [
        "#@title Print isi hasil akhir docs\n",
        "for doc in preprocessed_docs:\n",
        "  print(doc)"
      ]
    },
    {
      "cell_type": "code",
      "execution_count": null,
      "metadata": {
        "colab": {
          "base_uri": "https://localhost:8080/"
        },
        "id": "wfQFxbEaoeJw",
        "outputId": "0b4c0a0f-102a-4f03-a64b-b0f81c59d12e"
      },
      "outputs": [
        {
          "output_type": "execute_result",
          "data": {
            "text/plain": [
              "['ptn',\n",
              " 'bidang',\n",
              " 'tanggap',\n",
              " 'ardy',\n",
              " 'bangun',\n",
              " 'liga',\n",
              " 'universitas',\n",
              " 'gresik',\n",
              " 'semen',\n",
              " 'kholil',\n",
              " 'nasional',\n",
              " 'anugroho',\n",
              " 'pagi',\n",
              " 'putra',\n",
              " 'uisi',\n",
              " 'sukses',\n",
              " 'peringkat',\n",
              " 'kuliah',\n",
              " 'masyarakat',\n",
              " 'kharitsi',\n",
              " 'jaya',\n",
              " 'indonesia',\n",
              " 'mahasiswa',\n",
              " 'internasional',\n",
              " 'harap',\n",
              " 'usaha',\n",
              " 'gerak',\n",
              " 'abadi',\n",
              " 'pts',\n",
              " 'guntur']"
            ]
          },
          "metadata": {},
          "execution_count": 440
        }
      ],
      "source": [
        "#@title Ambil semua terms untuk proses yang lain\n",
        "terms = []\n",
        "for doc in preprocessed_docs:\n",
        "  for term in doc:\n",
        "    terms.append(term)\n",
        "terms = list(set(terms))\n",
        "terms"
      ]
    },
    {
      "cell_type": "markdown",
      "metadata": {
        "id": "XoJZbqGPiaqS"
      },
      "source": [
        "# Inverted Index"
      ]
    },
    {
      "cell_type": "markdown",
      "metadata": {
        "id": "ILu5waSQolOP"
      },
      "source": [
        "Lakukan inverted index dengan menuliskan angka 1 jika term tersebut ada pada document dan angka 0 jika tidak ada"
      ]
    },
    {
      "cell_type": "code",
      "execution_count": null,
      "metadata": {
        "colab": {
          "base_uri": "https://localhost:8080/"
        },
        "id": "0nxciepYSH6L",
        "outputId": "5ed9b74e-7aaa-4817-977d-a509240d9d59"
      },
      "outputs": [
        {
          "output_type": "execute_result",
          "data": {
            "text/plain": [
              "{'ptn': [0, 1, 0, 0, 0, 0],\n",
              " 'bidang': [0, 1, 0, 0, 0, 0],\n",
              " 'tanggap': [0, 0, 1, 1, 0, 0],\n",
              " 'ardy': [1, 0, 0, 0, 0, 0],\n",
              " 'bangun': [1, 0, 1, 0, 0, 1],\n",
              " 'liga': [0, 1, 0, 0, 0, 0],\n",
              " 'universitas': [0, 0, 0, 1, 1, 0],\n",
              " 'gresik': [1, 0, 1, 0, 0, 1],\n",
              " 'semen': [0, 0, 0, 0, 1, 0],\n",
              " 'kholil': [1, 0, 0, 0, 0, 0],\n",
              " 'nasional': [0, 1, 0, 0, 0, 0],\n",
              " 'anugroho': [1, 0, 0, 0, 0, 0],\n",
              " 'pagi': [1, 0, 0, 0, 0, 0],\n",
              " 'putra': [1, 0, 0, 0, 0, 0],\n",
              " 'uisi': [1, 1, 0, 0, 1, 0],\n",
              " 'sukses': [0, 0, 0, 0, 1, 1],\n",
              " 'peringkat': [0, 1, 0, 0, 0, 0],\n",
              " 'kuliah': [1, 0, 0, 0, 0, 0],\n",
              " 'masyarakat': [0, 0, 1, 1, 0, 0],\n",
              " 'kharitsi': [1, 0, 0, 0, 0, 0],\n",
              " 'jaya': [0, 1, 0, 0, 0, 1],\n",
              " 'indonesia': [0, 0, 0, 0, 1, 0],\n",
              " 'mahasiswa': [0, 1, 0, 0, 0, 0],\n",
              " 'internasional': [0, 0, 0, 0, 1, 0],\n",
              " 'harap': [0, 0, 0, 1, 0, 0],\n",
              " 'usaha': [0, 0, 0, 0, 1, 0],\n",
              " 'gerak': [0, 0, 1, 0, 0, 0],\n",
              " 'abadi': [1, 0, 0, 0, 0, 0],\n",
              " 'pts': [0, 1, 0, 0, 0, 0],\n",
              " 'guntur': [1, 0, 0, 0, 0, 0]}"
            ]
          },
          "metadata": {},
          "execution_count": 441
        }
      ],
      "source": [
        "inverted_index = {}\n",
        "for term in terms:\n",
        "  doc = []\n",
        "  for i in range(len(preprocessed_docs)):\n",
        "    if term in preprocessed_docs[i]:\n",
        "      doc.append(preprocessed_docs[i].count(term))\n",
        "    else:\n",
        "      doc.append(0)\n",
        "  inverted_index[term] = doc\n",
        "\n",
        "inverted_index"
      ]
    },
    {
      "cell_type": "markdown",
      "metadata": {
        "id": "_we_suzlZBog"
      },
      "source": [
        "# TF-IDF\n",
        "\n",
        "Melakukan perhitungan tf natural, tf logaritma, idf dan hasil tf-idf"
      ]
    },
    {
      "cell_type": "code",
      "execution_count": null,
      "metadata": {
        "colab": {
          "base_uri": "https://localhost:8080/"
        },
        "id": "2-hjyi9UXRIQ",
        "outputId": "51f66104-95da-410e-95a1-b232b4ecd18c"
      },
      "outputs": [
        {
          "output_type": "execute_result",
          "data": {
            "text/plain": [
              "{'ptn': 1,\n",
              " 'bidang': 1,\n",
              " 'tanggap': 2,\n",
              " 'ardy': 1,\n",
              " 'bangun': 3,\n",
              " 'liga': 1,\n",
              " 'universitas': 2,\n",
              " 'gresik': 3,\n",
              " 'semen': 1,\n",
              " 'kholil': 1,\n",
              " 'nasional': 1,\n",
              " 'anugroho': 1,\n",
              " 'pagi': 1,\n",
              " 'putra': 1,\n",
              " 'uisi': 3,\n",
              " 'sukses': 2,\n",
              " 'peringkat': 1,\n",
              " 'kuliah': 1,\n",
              " 'masyarakat': 2,\n",
              " 'kharitsi': 1,\n",
              " 'jaya': 2,\n",
              " 'indonesia': 1,\n",
              " 'mahasiswa': 1,\n",
              " 'internasional': 1,\n",
              " 'harap': 1,\n",
              " 'usaha': 1,\n",
              " 'gerak': 1,\n",
              " 'abadi': 1,\n",
              " 'pts': 1,\n",
              " 'guntur': 1}"
            ]
          },
          "metadata": {},
          "execution_count": 442
        }
      ],
      "source": [
        "#@title TF Natural\n",
        "tf_nat = {}\n",
        "for term in terms:\n",
        "  term_total = 0\n",
        "  for i in range(len(preprocessed_docs)):\n",
        "    term_total += preprocessed_docs[i].count(term)\n",
        "  tf_nat[term] = term_total\n",
        "\n",
        "tf_nat"
      ]
    },
    {
      "cell_type": "code",
      "execution_count": null,
      "metadata": {
        "colab": {
          "base_uri": "https://localhost:8080/"
        },
        "id": "p-mXJ0_VZC0l",
        "outputId": "478b22cf-40dd-45dd-a5d3-88bf38aa453d"
      },
      "outputs": [
        {
          "output_type": "execute_result",
          "data": {
            "text/plain": [
              "{'ptn': 1.0,\n",
              " 'bidang': 1.0,\n",
              " 'tanggap': 1.3010299956639813,\n",
              " 'ardy': 1.0,\n",
              " 'bangun': 1.4771212547196624,\n",
              " 'liga': 1.0,\n",
              " 'universitas': 1.3010299956639813,\n",
              " 'gresik': 1.4771212547196624,\n",
              " 'semen': 1.0,\n",
              " 'kholil': 1.0,\n",
              " 'nasional': 1.0,\n",
              " 'anugroho': 1.0,\n",
              " 'pagi': 1.0,\n",
              " 'putra': 1.0,\n",
              " 'uisi': 1.4771212547196624,\n",
              " 'sukses': 1.3010299956639813,\n",
              " 'peringkat': 1.0,\n",
              " 'kuliah': 1.0,\n",
              " 'masyarakat': 1.3010299956639813,\n",
              " 'kharitsi': 1.0,\n",
              " 'jaya': 1.3010299956639813,\n",
              " 'indonesia': 1.0,\n",
              " 'mahasiswa': 1.0,\n",
              " 'internasional': 1.0,\n",
              " 'harap': 1.0,\n",
              " 'usaha': 1.0,\n",
              " 'gerak': 1.0,\n",
              " 'abadi': 1.0,\n",
              " 'pts': 1.0,\n",
              " 'guntur': 1.0}"
            ]
          },
          "metadata": {},
          "execution_count": 443
        }
      ],
      "source": [
        "#@title TF LOG10\n",
        "\n",
        "tf_log = {}\n",
        "for term in terms:\n",
        "  term_total = 0\n",
        "  for i in range(len(preprocessed_docs)):\n",
        "    term_total += preprocessed_docs[i].count(term)\n",
        "  tf_log[term] = 1+math.log10(term_total)\n",
        "\n",
        "tf_log"
      ]
    },
    {
      "cell_type": "code",
      "execution_count": null,
      "metadata": {
        "colab": {
          "base_uri": "https://localhost:8080/"
        },
        "id": "_B9qoWDQxavD",
        "outputId": "cedac800-7476-4374-8fa4-07707316e0ff"
      },
      "outputs": [
        {
          "output_type": "execute_result",
          "data": {
            "text/plain": [
              "{'ptn': 0.6989700043360189,\n",
              " 'bidang': 0.6989700043360189,\n",
              " 'tanggap': 0.3979400086720376,\n",
              " 'ardy': 0.6989700043360189,\n",
              " 'bangun': 0.22184874961635637,\n",
              " 'liga': 0.6989700043360189,\n",
              " 'universitas': 0.3979400086720376,\n",
              " 'gresik': 0.22184874961635637,\n",
              " 'semen': 0.6989700043360189,\n",
              " 'kholil': 0.6989700043360189,\n",
              " 'nasional': 0.6989700043360189,\n",
              " 'anugroho': 0.6989700043360189,\n",
              " 'pagi': 0.6989700043360189,\n",
              " 'putra': 0.6989700043360189,\n",
              " 'uisi': 0.22184874961635637,\n",
              " 'sukses': 0.3979400086720376,\n",
              " 'peringkat': 0.6989700043360189,\n",
              " 'kuliah': 0.6989700043360189,\n",
              " 'masyarakat': 0.3979400086720376,\n",
              " 'kharitsi': 0.6989700043360189,\n",
              " 'jaya': 0.3979400086720376,\n",
              " 'indonesia': 0.6989700043360189,\n",
              " 'mahasiswa': 0.6989700043360189,\n",
              " 'internasional': 0.6989700043360189,\n",
              " 'harap': 0.6989700043360189,\n",
              " 'usaha': 0.6989700043360189,\n",
              " 'gerak': 0.6989700043360189,\n",
              " 'abadi': 0.6989700043360189,\n",
              " 'pts': 0.6989700043360189,\n",
              " 'guntur': 0.6989700043360189}"
            ]
          },
          "metadata": {},
          "execution_count": 444
        }
      ],
      "source": [
        "#@title IDF\n",
        "\n",
        "idf = {}\n",
        "for term in terms:\n",
        "  N = len(preprocessed_docs)-1\n",
        "  idf[term] = math.log10(N/tf_nat[term])\n",
        "\n",
        "idf"
      ]
    },
    {
      "cell_type": "code",
      "execution_count": null,
      "metadata": {
        "colab": {
          "base_uri": "https://localhost:8080/"
        },
        "id": "XyoIOEFLYWb_",
        "outputId": "f86408dd-5db3-4f2d-8c78-6e9d39c07bca"
      },
      "outputs": [
        {
          "output_type": "execute_result",
          "data": {
            "text/plain": [
              "{'ptn': 0.6989700043360189,\n",
              " 'bidang': 0.6989700043360189,\n",
              " 'tanggap': 0.5177318877571058,\n",
              " 'ardy': 0.6989700043360189,\n",
              " 'bangun': 0.32769750339130055,\n",
              " 'liga': 0.6989700043360189,\n",
              " 'universitas': 0.5177318877571058,\n",
              " 'gresik': 0.32769750339130055,\n",
              " 'semen': 0.6989700043360189,\n",
              " 'kholil': 0.6989700043360189,\n",
              " 'nasional': 0.6989700043360189,\n",
              " 'anugroho': 0.6989700043360189,\n",
              " 'pagi': 0.6989700043360189,\n",
              " 'putra': 0.6989700043360189,\n",
              " 'uisi': 0.32769750339130055,\n",
              " 'sukses': 0.5177318877571058,\n",
              " 'peringkat': 0.6989700043360189,\n",
              " 'kuliah': 0.6989700043360189,\n",
              " 'masyarakat': 0.5177318877571058,\n",
              " 'kharitsi': 0.6989700043360189,\n",
              " 'jaya': 0.5177318877571058,\n",
              " 'indonesia': 0.6989700043360189,\n",
              " 'mahasiswa': 0.6989700043360189,\n",
              " 'internasional': 0.6989700043360189,\n",
              " 'harap': 0.6989700043360189,\n",
              " 'usaha': 0.6989700043360189,\n",
              " 'gerak': 0.6989700043360189,\n",
              " 'abadi': 0.6989700043360189,\n",
              " 'pts': 0.6989700043360189,\n",
              " 'guntur': 0.6989700043360189}"
            ]
          },
          "metadata": {},
          "execution_count": 445
        }
      ],
      "source": [
        "#@title TF-IDF\n",
        "\n",
        "tf_idf = {}\n",
        "for term in terms:\n",
        "  tf_idf[term] = tf_log[term]*idf[term]\n",
        "\n",
        "tf_idf"
      ]
    },
    {
      "cell_type": "markdown",
      "metadata": {
        "id": "yeVlK3BU0yzP"
      },
      "source": [
        "Ambil tf idf kuadrat masing2 document"
      ]
    },
    {
      "cell_type": "code",
      "execution_count": null,
      "metadata": {
        "colab": {
          "base_uri": "https://localhost:8080/"
        },
        "id": "X1Nvg2_o0kjb",
        "outputId": "4ddee7cf-3c6c-4918-cc5e-58d50cedf509"
      },
      "outputs": [
        {
          "output_type": "execute_result",
          "data": {
            "text/plain": [
              "[[0.4885590669614942,\n",
              "  0.4885590669614942,\n",
              "  0.4885590669614942,\n",
              "  0.4885590669614942,\n",
              "  0.4885590669614942,\n",
              "  0.4885590669614942,\n",
              "  0.4885590669614942,\n",
              "  0.10738565372889143,\n",
              "  0.4885590669614942,\n",
              "  0.4885590669614942,\n",
              "  0.10738565372889143,\n",
              "  0.10738565372889143],\n",
              " [0.10738565372889143,\n",
              "  0.2680463076005364,\n",
              "  0.4885590669614942,\n",
              "  0.4885590669614942,\n",
              "  0.4885590669614942,\n",
              "  0.4885590669614942,\n",
              "  0.4885590669614942,\n",
              "  0.4885590669614942,\n",
              "  0.4885590669614942],\n",
              " [0.4885590669614942,\n",
              "  0.10738565372889143,\n",
              "  0.10738565372889143,\n",
              "  0.2680463076005364,\n",
              "  0.2680463076005364],\n",
              " [0.2680463076005364,\n",
              "  0.4885590669614942,\n",
              "  0.2680463076005364,\n",
              "  0.2680463076005364],\n",
              " [0.4885590669614942,\n",
              "  0.2680463076005364,\n",
              "  0.2680463076005364,\n",
              "  0.4885590669614942,\n",
              "  0.4885590669614942,\n",
              "  0.4885590669614942,\n",
              "  0.10738565372889143]]"
            ]
          },
          "metadata": {},
          "execution_count": 446
        }
      ],
      "source": [
        "docs_tf_idf = []\n",
        "for i in range(len(preprocessed_docs)-1):\n",
        "  doc_tf_idf = []\n",
        "  for term in preprocessed_docs[i]:\n",
        "    doc_tf_idf.append(tf_idf[term]**2)\n",
        "  docs_tf_idf.append(doc_tf_idf)\n",
        "\n",
        "docs_tf_idf"
      ]
    },
    {
      "cell_type": "markdown",
      "metadata": {
        "id": "U-2Hgw1T03nb"
      },
      "source": [
        "# Ambil tf idf kuadrat query\n",
        "Pada tahap ini isi arraynya disesuaikan dengan isi masing-masing document sehingga memudahkan dalam proses cosine similarity nantinya\n",
        "\n",
        "Ketika suatu term tidak ada pada salah satu document (query maupun dokumen yang dibandingkan) maka nilainya diisi 0"
      ]
    },
    {
      "cell_type": "code",
      "execution_count": null,
      "metadata": {
        "colab": {
          "base_uri": "https://localhost:8080/"
        },
        "id": "cnWiujgW0ouM",
        "outputId": "7cad5218-6f23-4c7c-de88-da2a25e25813"
      },
      "outputs": [
        {
          "output_type": "execute_result",
          "data": {
            "text/plain": [
              "[[0, 0, 0, 0, 0, 0, 0, 0.10738565372889143, 0, 0, 0, 0.10738565372889143],\n",
              " [0, 0.2680463076005364, 0, 0, 0, 0, 0, 0, 0],\n",
              " [0, 0.10738565372889143, 0.10738565372889143, 0, 0],\n",
              " [0, 0, 0, 0],\n",
              " [0, 0.2680463076005364, 0, 0, 0, 0, 0]]"
            ]
          },
          "metadata": {},
          "execution_count": 447
        }
      ],
      "source": [
        "query_tf_idf = []\n",
        "for i in range(len(preprocessed_docs)-1):\n",
        "  q_doc_tf_idf = []\n",
        "  for term in preprocessed_docs[i]:\n",
        "    if term in q_stemmed:\n",
        "      q_doc_tf_idf.append(tf_idf[term]**2)\n",
        "    else:\n",
        "      q_doc_tf_idf.append(0)\n",
        "  query_tf_idf.append(q_doc_tf_idf)\n",
        "query_tf_idf"
      ]
    },
    {
      "cell_type": "markdown",
      "metadata": {
        "id": "IzjRGBACYnz3"
      },
      "source": [
        "# Panjang Vektor Tiap Dokumen"
      ]
    },
    {
      "cell_type": "code",
      "execution_count": null,
      "metadata": {
        "colab": {
          "base_uri": "https://localhost:8080/"
        },
        "id": "ajfZK4yiYmQn",
        "outputId": "9596207f-f58f-4bf7-8975-14a6fb3e617c"
      },
      "outputs": [
        {
          "output_type": "execute_result",
          "data": {
            "text/plain": [
              "[1.4774317896515274,\n",
              " 1.3244660188230815,\n",
              " 0.6367503162153996,\n",
              " 0.6739706454773308,\n",
              " 1.0535602366758567]"
            ]
          },
          "metadata": {},
          "execution_count": 448
        }
      ],
      "source": [
        "docs_vector = []\n",
        "\n",
        "for doc in docs_tf_idf:\n",
        "  docs_vector.append(norm(doc))\n",
        "\n",
        "query_vector = []\n",
        "for query in query_tf_idf:\n",
        "  query_vector.append(norm(query))\n",
        "\n",
        "docs_vector"
      ]
    },
    {
      "cell_type": "markdown",
      "metadata": {
        "id": "s9UIJrQ8cCqJ"
      },
      "source": [
        "# COSINE SIMILARITY ANTARA QUERY DAN TIAP DOCUMENT"
      ]
    },
    {
      "cell_type": "code",
      "execution_count": null,
      "metadata": {
        "colab": {
          "base_uri": "https://localhost:8080/"
        },
        "id": "Q3rg0iq6uReL",
        "outputId": "664d8971-4d7e-4258-9b4e-bcb3a50274e7"
      },
      "outputs": [
        {
          "output_type": "execute_result",
          "data": {
            "text/plain": [
              "{'doc1': 0.10279070003192427,\n",
              " 'doc2': 0.20238066042549127,\n",
              " 'doc3': 0.23850203767519756,\n",
              " 'doc4': 0,\n",
              " 'doc5': 0.2544195369846753}"
            ]
          },
          "metadata": {},
          "execution_count": 449
        }
      ],
      "source": [
        "#@title Cosine Similarity\n",
        "cos_sim = {}\n",
        "\n",
        "for i in range(len(docs_tf_idf)):\n",
        "  cos_sim[f\"doc{i+1}\"] = np.dot(query_tf_idf[i], docs_tf_idf[i])/(query_vector[i]*docs_vector[i])\n",
        "\n",
        "# ubah nan menjadi 0\n",
        "for sim in cos_sim:\n",
        "  if np.isnan(cos_sim[sim]):\n",
        "    cos_sim[sim] = 0\n",
        "\n",
        "cos_sim"
      ]
    },
    {
      "cell_type": "code",
      "execution_count": null,
      "metadata": {
        "colab": {
          "base_uri": "https://localhost:8080/"
        },
        "id": "hI9V1lCbi6J_",
        "outputId": "336373ac-176d-4263-bf8b-495d65f922bd"
      },
      "outputs": [
        {
          "output_type": "execute_result",
          "data": {
            "text/plain": [
              "{'doc5': 0.2544195369846753,\n",
              " 'doc3': 0.23850203767519756,\n",
              " 'doc2': 0.20238066042549127,\n",
              " 'doc1': 0.10279070003192427,\n",
              " 'doc4': 0}"
            ]
          },
          "metadata": {},
          "execution_count": 450
        }
      ],
      "source": [
        "#@title Daftar dokumen teranking yang paling mirip dengan query Q\n",
        "cos_sim_sorted = dict(sorted(cos_sim.items(), key=lambda item: item[1], reverse=True))\n",
        "cos_sim_sorted"
      ]
    }
  ],
  "metadata": {
    "colab": {
      "provenance": []
    },
    "kernelspec": {
      "display_name": "Python 3",
      "name": "python3"
    },
    "language_info": {
      "name": "python"
    }
  },
  "nbformat": 4,
  "nbformat_minor": 0
}