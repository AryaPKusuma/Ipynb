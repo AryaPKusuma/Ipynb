{
  "nbformat": 4,
  "nbformat_minor": 0,
  "metadata": {
    "colab": {
      "provenance": []
    },
    "kernelspec": {
      "name": "python3",
      "display_name": "Python 3"
    },
    "language_info": {
      "name": "python"
    }
  },
  "cells": [
    {
      "cell_type": "code",
      "execution_count": null,
      "metadata": {
        "colab": {
          "base_uri": "https://localhost:8080/"
        },
        "id": "X6bxdxmlry4w",
        "outputId": "b35c883d-80b1-4764-8312-3eda4fc94a2e"
      },
      "outputs": [
        {
          "output_type": "stream",
          "name": "stdout",
          "text": [
            "Masukkan total belanja 20000\n",
            "Masukkan Uang 30000\n",
            "Tidak Diikhlaskan\n"
          ]
        }
      ],
      "source": [
        "#Program Kembalian\n",
        "\n",
        "totalBelanja = int(input(\"Masukkan total belanja \"))\n",
        "uang = int(input(\"Masukkan Uang \"))\n",
        "\n",
        "hasil = int(uang - totalBelanja)\n",
        "kembalian = int(100)\n",
        "\n",
        "if hasil < kembalian:\n",
        "    print(\"Ikhlaskan saja\")\n",
        "else:\n",
        "    print(\"Tidak Diikhlaskan\")"
      ]
    },
    {
      "cell_type": "code",
      "source": [
        "# Menghitung Lebar Persegi\n",
        "\n",
        "def my_function(panjang, lebar):\n",
        "  return panjang * lebar\n",
        "\n",
        "panjang = int(input(\"masukan panjang \"))\n",
        "lebar = int(input(\"Masukkan Lebar \"))\n",
        "\n",
        "print(my_function(panjang, lebar))"
      ],
      "metadata": {
        "colab": {
          "base_uri": "https://localhost:8080/"
        },
        "id": "WeTjKY3zumSJ",
        "outputId": "da36f46f-5fa8-4902-ca4c-c2b8e22ecd99"
      },
      "execution_count": null,
      "outputs": [
        {
          "output_type": "stream",
          "name": "stdout",
          "text": [
            "masukan panjang 20\n",
            "Masukkan Lebar 40\n",
            "800\n"
          ]
        }
      ]
    },
    {
      "cell_type": "code",
      "source": [
        "# Program Menghitung katakter di dalam nama\n",
        "\n",
        "def menghitung_nama(nama):\n",
        "  char_count = 0\n",
        "\n",
        "  for char in nama:\n",
        "    if char.isalpha():\n",
        "      char_count += 1\n",
        "\n",
        "  print(char_count)\n",
        "\n",
        "nama = input(\"Masukkan Nama : \")\n",
        "\n",
        "menghitung_nama(nama)"
      ],
      "metadata": {
        "colab": {
          "base_uri": "https://localhost:8080/"
        },
        "id": "cwEFFNuMv_nJ",
        "outputId": "b17414aa-dd87-43f6-e313-a9294661308a"
      },
      "execution_count": null,
      "outputs": [
        {
          "output_type": "stream",
          "name": "stdout",
          "text": [
            "Masukkan Namaarya\n",
            "4\n"
          ]
        }
      ]
    },
    {
      "cell_type": "code",
      "source": [
        "import numpy as np\n",
        "\n",
        "#membuat array 1D\n",
        "#array1D = np.array([2, 3, 4, 5])\n",
        "#print(array1D)\n",
        "\n",
        "#membuat array 2D\n",
        "array2D = np.array([[2, 3, 4, 5, 6, 7],[1, 4, 5, 6, 8, 9]])\n",
        "print(array2D.strides)\n",
        "\n",
        "#membuat array 3D\n",
        "#array3D = np.array([[[2, 4, 5, 3],[2, 4, 5, 6],[1, 4, 6, 7]]])"
      ],
      "metadata": {
        "colab": {
          "base_uri": "https://localhost:8080/"
        },
        "id": "_usenHuvwG-W",
        "outputId": "faf4f7ed-c982-4839-f89b-396d2536f52d"
      },
      "execution_count": null,
      "outputs": [
        {
          "output_type": "stream",
          "name": "stdout",
          "text": [
            "(48, 8)\n"
          ]
        }
      ]
    }
  ]
}